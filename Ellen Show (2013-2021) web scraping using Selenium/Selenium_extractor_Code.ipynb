{
 "cells": [
  {
   "cell_type": "markdown",
   "metadata": {},
   "source": [
    "**Website used in this project: https://www.thetvdb.com/series/the-ellen-degeneres-show**, \n",
    "\n",
    "**I do not own the data**(but code is definitely mine). This is for educational purpose and a project to learn web scraping using selenium."
   ]
  },
  {
   "cell_type": "code",
   "execution_count": 13,
   "metadata": {},
   "outputs": [],
   "source": [
    "import pandas as pd\n",
    "from selenium import webdriver\n",
    "from selenium.common.exceptions import NoSuchElementException\n",
    "\n",
    "from selenium.webdriver.support import expected_conditions as EC\n",
    "from selenium.webdriver.support.ui import WebDriverWait\n",
    "from selenium.webdriver.common.by import By\n",
    "from IPython.display import Image\n",
    "import datetime"
   ]
  },
  {
   "cell_type": "markdown",
   "metadata": {},
   "source": [
    "**Adding Chrome Driver path**"
   ]
  },
  {
   "cell_type": "code",
   "execution_count": 2,
   "metadata": {},
   "outputs": [],
   "source": [
    "PATH =\"C:\\Program Files\\chromedriver.exe\""
   ]
  },
  {
   "cell_type": "markdown",
   "metadata": {},
   "source": [
    "**Cell below will open chrome browser**"
   ]
  },
  {
   "cell_type": "code",
   "execution_count": 3,
   "metadata": {},
   "outputs": [],
   "source": [
    "driver = webdriver.Chrome(PATH)"
   ]
  },
  {
   "cell_type": "markdown",
   "metadata": {},
   "source": [
    "**Adding Link of the website we want to scrape from**"
   ]
  },
  {
   "cell_type": "code",
   "execution_count": 4,
   "metadata": {},
   "outputs": [],
   "source": [
    "driver.get('https://www.thetvdb.com/series/the-ellen-degeneres-show')"
   ]
  },
  {
   "cell_type": "markdown",
   "metadata": {},
   "source": [
    "# Final scrapper code: \n",
    "**Do keep the chrome browser launched by this notebook open, in front of your eyes, you will see the magic of selenium and python**"
   ]
  },
  {
   "cell_type": "code",
   "execution_count": 5,
   "metadata": {},
   "outputs": [
    {
     "name": "stdout",
     "output_type": "stream",
     "text": [
      "Season:1 done\n",
      "Season:2 done\n",
      "Season:3 done\n",
      "Season:4 done\n",
      "Season:5 done\n",
      "Season:6 done\n",
      "Season:7 done\n",
      "Season:8 done\n",
      "Season:9 done\n",
      "Season:10 done\n",
      "Season:11 done\n",
      "Season:12 done\n",
      "Season:13 done\n",
      "Season:14 done\n",
      "Season:15 done\n",
      "Season:16 done\n",
      "Season:17 done\n",
      "Season:18 done\n"
     ]
    }
   ],
   "source": [
    "Date = []\n",
    "Season_ep = []\n",
    "Guests = []\n",
    "\n",
    "\n",
    "for i in range(3,21):\n",
    "    \n",
    "    element=WebDriverWait(driver,20).until(EC.visibility_of_element_located((By.XPATH ,'//*[@id=\"page-series\"]/div[3]/div[2]/div[2]/div[6]/div[1]/ul/li['+str(i)+']/h4/a')))\n",
    "    element.click()\n",
    "    \n",
    "    for j in range(1,200):\n",
    "        try:\n",
    "            \n",
    "            Season_ep.append(driver.find_element_by_xpath('//*[@id=\"page-season\"]/div[4]/div[2]/div[1]/table/tbody/tr['+str(j)+']/td[1]').text)\n",
    "            Guests.append(driver.find_element_by_xpath('//*[@id=\"page-season\"]/div[4]/div[2]/div[1]/table/tbody/tr['+str(j)+']/td[2]/a').text)\n",
    "            Date.append(driver.find_element_by_xpath('//*[@id=\"page-season\"]/div[4]/div[2]/div[1]/table/tbody/tr['+str(j)+']/td[3]/div').text)\n",
    "        \n",
    "        except NoSuchElementException:\n",
    "            \n",
    "            continue  \n",
    "    print('Season:'+str(i-2)+' done') \n",
    "    \n",
    "    element=WebDriverWait(driver,20).until(EC.visibility_of_element_located((By.XPATH ,'//*[@id=\"page-season\"]/div[3]/div/a[3]')))\n",
    "    element.click()"
   ]
  },
  {
   "cell_type": "code",
   "execution_count": 6,
   "metadata": {},
   "outputs": [
    {
     "data": {
      "text/plain": [
       "(3091, 3091, 3091)"
      ]
     },
     "execution_count": 6,
     "metadata": {},
     "output_type": "execute_result"
    }
   ],
   "source": [
    "len(Date),len(Guests),len(Season_ep) #checking if each column has same size of data"
   ]
  },
  {
   "cell_type": "markdown",
   "metadata": {},
   "source": [
    "**Clubbing everything together and making a dataframe**"
   ]
  },
  {
   "cell_type": "code",
   "execution_count": 7,
   "metadata": {},
   "outputs": [],
   "source": [
    "d = zip(Season_ep,Date,Guests)\n",
    "mapped = list(d)\n",
    "df = pd.DataFrame(mapped, columns =['Season', 'Date','Guests'])"
   ]
  },
  {
   "cell_type": "code",
   "execution_count": 10,
   "metadata": {},
   "outputs": [
    {
     "data": {
      "text/html": [
       "<div>\n",
       "<style scoped>\n",
       "    .dataframe tbody tr th:only-of-type {\n",
       "        vertical-align: middle;\n",
       "    }\n",
       "\n",
       "    .dataframe tbody tr th {\n",
       "        vertical-align: top;\n",
       "    }\n",
       "\n",
       "    .dataframe thead th {\n",
       "        text-align: right;\n",
       "    }\n",
       "</style>\n",
       "<table border=\"1\" class=\"dataframe\">\n",
       "  <thead>\n",
       "    <tr style=\"text-align: right;\">\n",
       "      <th></th>\n",
       "      <th>Season</th>\n",
       "      <th>Date</th>\n",
       "      <th>Guests</th>\n",
       "    </tr>\n",
       "  </thead>\n",
       "  <tbody>\n",
       "    <tr>\n",
       "      <th>0</th>\n",
       "      <td>S01E01</td>\n",
       "      <td>September 8, 2003</td>\n",
       "      <td>Series Premiere</td>\n",
       "    </tr>\n",
       "    <tr>\n",
       "      <th>1</th>\n",
       "      <td>S01E02</td>\n",
       "      <td>September 9, 2003</td>\n",
       "      <td>Justin Timberlake</td>\n",
       "    </tr>\n",
       "    <tr>\n",
       "      <th>2</th>\n",
       "      <td>S01E03</td>\n",
       "      <td>September 10, 2003</td>\n",
       "      <td>Betty White/Sherri Shepherd</td>\n",
       "    </tr>\n",
       "    <tr>\n",
       "      <th>3</th>\n",
       "      <td>S01E04</td>\n",
       "      <td>September 11, 2003</td>\n",
       "      <td>Megan Mullally</td>\n",
       "    </tr>\n",
       "    <tr>\n",
       "      <th>4</th>\n",
       "      <td>S01E05</td>\n",
       "      <td>September 12, 2003</td>\n",
       "      <td>Dennis Quaid/Lisa Marie Presley</td>\n",
       "    </tr>\n",
       "    <tr>\n",
       "      <th>...</th>\n",
       "      <td>...</td>\n",
       "      <td>...</td>\n",
       "      <td>...</td>\n",
       "    </tr>\n",
       "    <tr>\n",
       "      <th>3086</th>\n",
       "      <td>S18E174</td>\n",
       "      <td>June 28, 2021</td>\n",
       "      <td>Guest Host Tiffany Haddish with Tyrese Gibson ...</td>\n",
       "    </tr>\n",
       "    <tr>\n",
       "      <th>3087</th>\n",
       "      <td>S18E175</td>\n",
       "      <td>June 29, 2021</td>\n",
       "      <td>Guest Host Chelsea Handler with Kristen Bell, ...</td>\n",
       "    </tr>\n",
       "    <tr>\n",
       "      <th>3088</th>\n",
       "      <td>S18E176</td>\n",
       "      <td>June 30, 2021</td>\n",
       "      <td>Guest Host Wanda Sykes with Don Cheadle, Ilana...</td>\n",
       "    </tr>\n",
       "    <tr>\n",
       "      <th>3089</th>\n",
       "      <td>S18E177</td>\n",
       "      <td>July 1, 2021</td>\n",
       "      <td>Guest Host Chelsea Handler with Robin Wright a...</td>\n",
       "    </tr>\n",
       "    <tr>\n",
       "      <th>3090</th>\n",
       "      <td>S18E178</td>\n",
       "      <td>July 2, 2021</td>\n",
       "      <td>Guest Host Stephen “tWitch” Boss with Jay Phar...</td>\n",
       "    </tr>\n",
       "  </tbody>\n",
       "</table>\n",
       "<p>3091 rows × 3 columns</p>\n",
       "</div>"
      ],
      "text/plain": [
       "       Season                Date  \\\n",
       "0      S01E01   September 8, 2003   \n",
       "1      S01E02   September 9, 2003   \n",
       "2      S01E03  September 10, 2003   \n",
       "3      S01E04  September 11, 2003   \n",
       "4      S01E05  September 12, 2003   \n",
       "...       ...                 ...   \n",
       "3086  S18E174       June 28, 2021   \n",
       "3087  S18E175       June 29, 2021   \n",
       "3088  S18E176       June 30, 2021   \n",
       "3089  S18E177        July 1, 2021   \n",
       "3090  S18E178        July 2, 2021   \n",
       "\n",
       "                                                 Guests  \n",
       "0                                       Series Premiere  \n",
       "1                                     Justin Timberlake  \n",
       "2                           Betty White/Sherri Shepherd  \n",
       "3                                        Megan Mullally  \n",
       "4                       Dennis Quaid/Lisa Marie Presley  \n",
       "...                                                 ...  \n",
       "3086  Guest Host Tiffany Haddish with Tyrese Gibson ...  \n",
       "3087  Guest Host Chelsea Handler with Kristen Bell, ...  \n",
       "3088  Guest Host Wanda Sykes with Don Cheadle, Ilana...  \n",
       "3089  Guest Host Chelsea Handler with Robin Wright a...  \n",
       "3090  Guest Host Stephen “tWitch” Boss with Jay Phar...  \n",
       "\n",
       "[3091 rows x 3 columns]"
      ]
     },
     "execution_count": 10,
     "metadata": {},
     "output_type": "execute_result"
    }
   ],
   "source": [
    "df"
   ]
  },
  {
   "cell_type": "markdown",
   "metadata": {},
   "source": [
    "**Let's verify the dataset, if it is accurate or not** "
   ]
  },
  {
   "cell_type": "markdown",
   "metadata": {},
   "source": [
    "So I remember **Deepika Padukone** went to Ellen show. If this is complete database as I believe. It should contain that entry. Lets also see who were **other guests that day**."
   ]
  },
  {
   "cell_type": "code",
   "execution_count": 11,
   "metadata": {},
   "outputs": [
    {
     "data": {
      "text/html": [
       "<div>\n",
       "<style scoped>\n",
       "    .dataframe tbody tr th:only-of-type {\n",
       "        vertical-align: middle;\n",
       "    }\n",
       "\n",
       "    .dataframe tbody tr th {\n",
       "        vertical-align: top;\n",
       "    }\n",
       "\n",
       "    .dataframe thead th {\n",
       "        text-align: right;\n",
       "    }\n",
       "</style>\n",
       "<table border=\"1\" class=\"dataframe\">\n",
       "  <thead>\n",
       "    <tr style=\"text-align: right;\">\n",
       "      <th></th>\n",
       "      <th>Season</th>\n",
       "      <th>Date</th>\n",
       "      <th>Guests</th>\n",
       "    </tr>\n",
       "  </thead>\n",
       "  <tbody>\n",
       "    <tr>\n",
       "      <th>2270</th>\n",
       "      <td>S14E84</td>\n",
       "      <td>January 18, 2017</td>\n",
       "      <td>Matt LeBlanc, Deepika Padukone</td>\n",
       "    </tr>\n",
       "  </tbody>\n",
       "</table>\n",
       "</div>"
      ],
      "text/plain": [
       "      Season              Date                          Guests\n",
       "2270  S14E84  January 18, 2017  Matt LeBlanc, Deepika Padukone"
      ]
     },
     "execution_count": 11,
     "metadata": {},
     "output_type": "execute_result"
    }
   ],
   "source": [
    "df[df['Guests'].str.contains('Deepika Padukone')]"
   ]
  },
  {
   "cell_type": "markdown",
   "metadata": {},
   "source": [
    "Season 14 Episode 84, in January 18 2017, It was around release of her Hollywood debut movie **XXX:Return of Xander Cage** with Vin Diesel."
   ]
  },
  {
   "cell_type": "code",
   "execution_count": 14,
   "metadata": {},
   "outputs": [],
   "source": [
    "#Converting date to a much favourable format\n",
    "\n",
    "df['Date'] = df['Date'].apply(lambda x: datetime.datetime.strptime(x, '%B %d, %Y').date())\n",
    "df['Date'] = pd.to_datetime(df['Date'])"
   ]
  },
  {
   "cell_type": "code",
   "execution_count": 16,
   "metadata": {},
   "outputs": [
    {
     "data": {
      "text/html": [
       "<div>\n",
       "<style scoped>\n",
       "    .dataframe tbody tr th:only-of-type {\n",
       "        vertical-align: middle;\n",
       "    }\n",
       "\n",
       "    .dataframe tbody tr th {\n",
       "        vertical-align: top;\n",
       "    }\n",
       "\n",
       "    .dataframe thead th {\n",
       "        text-align: right;\n",
       "    }\n",
       "</style>\n",
       "<table border=\"1\" class=\"dataframe\">\n",
       "  <thead>\n",
       "    <tr style=\"text-align: right;\">\n",
       "      <th></th>\n",
       "      <th>Season</th>\n",
       "      <th>Date</th>\n",
       "      <th>Guests</th>\n",
       "    </tr>\n",
       "  </thead>\n",
       "  <tbody>\n",
       "    <tr>\n",
       "      <th>3081</th>\n",
       "      <td>S18E169</td>\n",
       "      <td>2021-06-21</td>\n",
       "      <td>Cecily Strong, Ann Dowd</td>\n",
       "    </tr>\n",
       "    <tr>\n",
       "      <th>3082</th>\n",
       "      <td>S18E170</td>\n",
       "      <td>2021-06-22</td>\n",
       "      <td>Chris “Ludacris” Bridges, James TW</td>\n",
       "    </tr>\n",
       "    <tr>\n",
       "      <th>3083</th>\n",
       "      <td>S18E171</td>\n",
       "      <td>2021-06-23</td>\n",
       "      <td>Henry Golding, Damien Caillaud, Urbain Ngobobo...</td>\n",
       "    </tr>\n",
       "    <tr>\n",
       "      <th>3084</th>\n",
       "      <td>S18E172</td>\n",
       "      <td>2021-06-24</td>\n",
       "      <td>Minnie Driver, Blake Shelton</td>\n",
       "    </tr>\n",
       "    <tr>\n",
       "      <th>3085</th>\n",
       "      <td>S18E173</td>\n",
       "      <td>2021-06-25</td>\n",
       "      <td>Guest Host Stephen “tWitch” Boss with Casey Wi...</td>\n",
       "    </tr>\n",
       "    <tr>\n",
       "      <th>3086</th>\n",
       "      <td>S18E174</td>\n",
       "      <td>2021-06-28</td>\n",
       "      <td>Guest Host Tiffany Haddish with Tyrese Gibson ...</td>\n",
       "    </tr>\n",
       "    <tr>\n",
       "      <th>3087</th>\n",
       "      <td>S18E175</td>\n",
       "      <td>2021-06-29</td>\n",
       "      <td>Guest Host Chelsea Handler with Kristen Bell, ...</td>\n",
       "    </tr>\n",
       "    <tr>\n",
       "      <th>3088</th>\n",
       "      <td>S18E176</td>\n",
       "      <td>2021-06-30</td>\n",
       "      <td>Guest Host Wanda Sykes with Don Cheadle, Ilana...</td>\n",
       "    </tr>\n",
       "    <tr>\n",
       "      <th>3089</th>\n",
       "      <td>S18E177</td>\n",
       "      <td>2021-07-01</td>\n",
       "      <td>Guest Host Chelsea Handler with Robin Wright a...</td>\n",
       "    </tr>\n",
       "    <tr>\n",
       "      <th>3090</th>\n",
       "      <td>S18E178</td>\n",
       "      <td>2021-07-02</td>\n",
       "      <td>Guest Host Stephen “tWitch” Boss with Jay Phar...</td>\n",
       "    </tr>\n",
       "  </tbody>\n",
       "</table>\n",
       "</div>"
      ],
      "text/plain": [
       "       Season       Date                                             Guests\n",
       "3081  S18E169 2021-06-21                            Cecily Strong, Ann Dowd\n",
       "3082  S18E170 2021-06-22                 Chris “Ludacris” Bridges, James TW\n",
       "3083  S18E171 2021-06-23  Henry Golding, Damien Caillaud, Urbain Ngobobo...\n",
       "3084  S18E172 2021-06-24                       Minnie Driver, Blake Shelton\n",
       "3085  S18E173 2021-06-25  Guest Host Stephen “tWitch” Boss with Casey Wi...\n",
       "3086  S18E174 2021-06-28  Guest Host Tiffany Haddish with Tyrese Gibson ...\n",
       "3087  S18E175 2021-06-29  Guest Host Chelsea Handler with Kristen Bell, ...\n",
       "3088  S18E176 2021-06-30  Guest Host Wanda Sykes with Don Cheadle, Ilana...\n",
       "3089  S18E177 2021-07-01  Guest Host Chelsea Handler with Robin Wright a...\n",
       "3090  S18E178 2021-07-02  Guest Host Stephen “tWitch” Boss with Jay Phar..."
      ]
     },
     "execution_count": 16,
     "metadata": {},
     "output_type": "execute_result"
    }
   ],
   "source": [
    "df.tail(10)"
   ]
  },
  {
   "cell_type": "code",
   "execution_count": null,
   "metadata": {},
   "outputs": [],
   "source": [
    "df.to_csv('Ellen_dataset(2003-2021).csv')"
   ]
  }
 ],
 "metadata": {
  "kernelspec": {
   "display_name": "Python 3",
   "language": "python",
   "name": "python3"
  },
  "language_info": {
   "codemirror_mode": {
    "name": "ipython",
    "version": 3
   },
   "file_extension": ".py",
   "mimetype": "text/x-python",
   "name": "python",
   "nbconvert_exporter": "python",
   "pygments_lexer": "ipython3",
   "version": "3.8.8"
  }
 },
 "nbformat": 4,
 "nbformat_minor": 4
}
