{
 "cells": [
  {
   "cell_type": "markdown",
   "metadata": {},
   "source": [
    "**Website used in this project: https://www.thetvdb.com/series/the-ellen-degeneres-show**, \n",
    "\n",
    "**I do not own the data**(but code is definitely mine). This is for educational purpose and a project to learn web scraping using selenium. I chose this, because I love the **Ellen show**."
   ]
  },
  {
   "cell_type": "code",
   "execution_count": 13,
   "metadata": {},
   "outputs": [],
   "source": [
    "import pandas as pd\n",
    "from selenium import webdriver\n",
    "from selenium.common.exceptions import NoSuchElementException\n",
    "\n",
    "from selenium.webdriver.support import expected_conditions as EC\n",
    "from selenium.webdriver.support.ui import WebDriverWait\n",
    "from selenium.webdriver.common.by import By\n",
    "from IPython.display import Image\n",
    "import datetime"
   ]
  },
  {
   "cell_type": "markdown",
   "metadata": {},
   "source": [
    "**Adding Chrome Driver path**"
   ]
  },
  {
   "cell_type": "code",
   "execution_count": 2,
   "metadata": {},
   "outputs": [],
   "source": [
    "PATH =\"C:\\Program Files\\chromedriver.exe\""
   ]
  },
  {
   "cell_type": "markdown",
   "metadata": {},
   "source": [
    "**Cell below will open chrome browser**"
   ]
  },
  {
   "cell_type": "code",
   "execution_count": 3,
   "metadata": {},
   "outputs": [],
   "source": [
    "driver = webdriver.Chrome(PATH)"
   ]
  },
  {
   "cell_type": "markdown",
   "metadata": {},
   "source": [
    "**Adding Link of the website we want to scrape from**"
   ]
  },
  {
   "cell_type": "code",
   "execution_count": 4,
   "metadata": {},
   "outputs": [],
   "source": [
    "driver.get('https://www.thetvdb.com/series/the-ellen-degeneres-show')"
   ]
  },
  {
   "cell_type": "markdown",
   "metadata": {},
   "source": [
    "<i>**Note**: if you are here just for the code, scroll down to the **Final scrapper code**."
   ]
  },
  {
   "cell_type": "markdown",
   "metadata": {},
   "source": [
    "# Code to scrape the following data\n",
    "- Season_episode_no\n",
    "- Date_aired\n",
    "- Guests_on_the_show "
   ]
  },
  {
   "cell_type": "markdown",
   "metadata": {},
   "source": [
    "<img src='./images/website 1.PNG'>"
   ]
  },
  {
   "cell_type": "markdown",
   "metadata": {},
   "source": [
    "Scroll down"
   ]
  },
  {
   "cell_type": "markdown",
   "metadata": {},
   "source": [
    "<img src='./images/website2.PNG'>"
   ]
  },
  {
   "cell_type": "markdown",
   "metadata": {},
   "source": [
    "See the little arrow that is link for season 1 data and then there is list of 18 seasons in total"
   ]
  },
  {
   "cell_type": "markdown",
   "metadata": {},
   "source": [
    "So first of all I want my scraper code to automatically go into each link of seasons list and then scrape data for each season and append the data in one single table. So by this we will have one dataset of all season with its episodes. Sounds fun right!!!"
   ]
  },
  {
   "cell_type": "markdown",
   "metadata": {},
   "source": [
    "<img src='./images/inspect.PNG'> "
   ]
  },
  {
   "cell_type": "markdown",
   "metadata": {},
   "source": [
    "<img src='./images/season1.PNG'> "
   ]
  },
  {
   "cell_type": "markdown",
   "metadata": {},
   "source": [
    "**Right click** -> **inspect** -> **on RHS top bar click on arrow on right of Elements tab** -> **then select season 1** -> **you will see a portion highlighted in blue** -> **right click on it** -> **COPY** -> **copy XPATH** -> **you will get below mentioned path** copy it in one cell and do not touch it for now.\n",
    "\n",
    "\n",
    "**Season 1 XPATH** : //*[@id=\"page-series\"]/div[3]/div[2]/div[2]/div[6]/div[1]/ul/li[3]/h4/a"
   ]
  },
  {
   "cell_type": "markdown",
   "metadata": {},
   "source": [
    "<img src='./images/inspect2.PNG'> "
   ]
  },
  {
   "cell_type": "markdown",
   "metadata": {},
   "source": [
    "<img src='./images/season18.PNG'> "
   ]
  },
  {
   "cell_type": "markdown",
   "metadata": {},
   "source": [
    "**Right click** -> **inspect** -> **on RHS top bar click on arrow on right of Elements tab** -> **then select last season  i.e season 18** -> **you will see a portion highlighted in blue** -> **right click on it** -> **COPY** -> **copy XPATH** -> **you will get below mentioned path** copy it in the same cell and again do not touch it.\n",
    "\n",
    "\n",
    "**Season 18 XPATH** : //*[@id=\"page-series\"]/div[3]/div[2]/div[2]/div[6]/div[1]/ul/li[20]/h4/a"
   ]
  },
  {
   "cell_type": "markdown",
   "metadata": {},
   "source": [
    "So we want to iterate from Season 1 Xpath to Season 18 Xpath\n",
    "\n",
    "**Now what is Xpath?** : XPath is a query language for selecting nodes from an XML document. So Selenium uses this and many other ways to navigate through HTML or XML document, XPATH is on of them. The other ways to select a node are using id, classes etc. but I find XPATH **headachefree** if that's a word.\n",
    "\n",
    "Now let's get back to the task, can you spot the difference between Season1_XPATH and Season18_XPATH ?\n",
    "\n",
    "if no, here's the answer- **//*[@id=\"page-series\"]/div[3]/div[2]/div[2]/div[6]/div[1]/ul/ \n",
    "\n",
    "(till ul/)** everything is same and then after li, **h4/a** is also common in both of them.\n",
    "\n",
    "Main game here is in **li[3]** to **li[20]**, difference= 20-3+1 =18( yes +1, as ends of the range are included **BASIC MATHS**) which is equal to total no. of seasons.\n",
    "\n",
    "So our loop will go from 3 to 21(end of range is excluded in python) and we will get each season.\n"
   ]
  },
  {
   "cell_type": "markdown",
   "metadata": {},
   "source": [
    "Okay, so we can access each of these season links great!!, but now what?\n",
    "\n",
    "Now our code should be able to visit each season's link and click on it to open the page containing all the data of that season"
   ]
  },
  {
   "cell_type": "markdown",
   "metadata": {},
   "source": [
    "<img src='./images/season_click_code.PNG'> "
   ]
  },
  {
   "cell_type": "markdown",
   "metadata": {},
   "source": [
    "This clicks on the link( and path to those links are given using the XPATH we saw before) and the code above can open each link on by one.\n",
    "\n",
    "**Can it?**\n",
    "\n",
    "No it can't , because after visiting a link , you should get back to the main page again only then it will be able to select next link of the Season list."
   ]
  },
  {
   "cell_type": "markdown",
   "metadata": {},
   "source": [
    "<img src='./images/season_loop.PNG'> "
   ]
  },
  {
   "cell_type": "markdown",
   "metadata": {},
   "source": [
    "# Do Something useful"
   ]
  },
  {
   "cell_type": "markdown",
   "metadata": {},
   "source": [
    "Now just like before click on row of episode 1 and collect XPATH for **S01E01, Name, First Aired**, just like we did for Seasons and copy them in a separate cell for reference."
   ]
  },
  {
   "cell_type": "markdown",
   "metadata": {},
   "source": [
    "<img src='./images/epone.PNG'> "
   ]
  },
  {
   "cell_type": "markdown",
   "metadata": {},
   "source": [
    "ep 1:\n",
    "\n",
    "- **season index** : //*[@id=\"page-season\"]/div[4]/div[2]/div[1]/table/tbody/tr[1]/td[1]\n",
    "- **guests**(Name): //*[@id=\"page-season\"]/div[4]/div[2]/div[1]/table/tbody/tr[1]/td[2]/a\n",
    "- **date**(First aired): //*[@id=\"page-season\"]/div[4]/div[2]/div[1]/table/tbody/tr[1]/td[3]/div"
   ]
  },
  {
   "cell_type": "markdown",
   "metadata": {},
   "source": [
    "<img src='./images/eponesixsix.PNG'> "
   ]
  },
  {
   "cell_type": "markdown",
   "metadata": {},
   "source": [
    "ep 166:\n",
    "    \n",
    "- **season index**: //*[@id=\"page-season\"]/div[4]/div[2]/div[1]/table/tbody/tr[166]/td[1]\n",
    "- **guest**(Name): //*[@id=\"page-season\"]/div[4]/div[2]/div[1]/table/tbody/tr[166]/td[2]/a\n",
    "- **date**(First aired): //*[@id=\"page-season\"]/div[4]/div[2]/div[1]/table/tbody/tr[166]/td[3]/div"
   ]
  },
  {
   "cell_type": "markdown",
   "metadata": {},
   "source": [
    "Now let's spot the difference between first episode's -(Season_index,guest,date XPATH) and last episode's -(Season_index,guest,date XPATH)\n",
    "\n",
    "- season_index XPATH changes from tr[1] to tr[166] rest everything is same\n",
    "- guest(Name) XPATH changes from tr[1] to tr[166] rest everything is same\n",
    "- date(First aired) XPATH changes from tr[1] to tr[166] rest everything is same\n",
    "\n",
    "Not all seasons have 166 episodes, so we can take 1 to 200 for precaution for each episode. Now you might be thinking that code will give error if we go beyond limit of no of episodes in any season. **Yes!!*, it will give **NoSuchElementException** but we will handle it using **try-except** such that if exception occurs continue from next iteration. You will understand more when you see the code.\n",
    "\n",
    "Okay, so we can access each data column of each episode, now what?\n",
    "\n",
    "Now our code should be able to read text associated with each XPATH and we will store them. "
   ]
  },
  {
   "cell_type": "markdown",
   "metadata": {},
   "source": [
    "<img src='./images/episode_loop.PNG'> "
   ]
  },
  {
   "cell_type": "markdown",
   "metadata": {},
   "source": [
    "# Final scrapper code: \n",
    "**Do keep the chrome browser launched by this notebook open, in front of your eyes, you will see the magic of selenium and python**"
   ]
  },
  {
   "cell_type": "code",
   "execution_count": 5,
   "metadata": {},
   "outputs": [
    {
     "name": "stdout",
     "output_type": "stream",
     "text": [
      "Season:1 done\n",
      "Season:2 done\n",
      "Season:3 done\n",
      "Season:4 done\n",
      "Season:5 done\n",
      "Season:6 done\n",
      "Season:7 done\n",
      "Season:8 done\n",
      "Season:9 done\n",
      "Season:10 done\n",
      "Season:11 done\n",
      "Season:12 done\n",
      "Season:13 done\n",
      "Season:14 done\n",
      "Season:15 done\n",
      "Season:16 done\n",
      "Season:17 done\n",
      "Season:18 done\n"
     ]
    }
   ],
   "source": [
    "Date = []\n",
    "Season_ep = []\n",
    "Guests = []\n",
    "\n",
    "\n",
    "for i in range(3,21):\n",
    "    \n",
    "    element=WebDriverWait(driver,20).until(EC.visibility_of_element_located((By.XPATH ,'//*[@id=\"page-series\"]/div[3]/div[2]/div[2]/div[6]/div[1]/ul/li['+str(i)+']/h4/a')))\n",
    "    element.click()\n",
    "    \n",
    "    for j in range(1,200):\n",
    "        try:\n",
    "            \n",
    "            Season_ep.append(driver.find_element_by_xpath('//*[@id=\"page-season\"]/div[4]/div[2]/div[1]/table/tbody/tr['+str(j)+']/td[1]').text)\n",
    "            Guests.append(driver.find_element_by_xpath('//*[@id=\"page-season\"]/div[4]/div[2]/div[1]/table/tbody/tr['+str(j)+']/td[2]/a').text)\n",
    "            Date.append(driver.find_element_by_xpath('//*[@id=\"page-season\"]/div[4]/div[2]/div[1]/table/tbody/tr['+str(j)+']/td[3]/div').text)\n",
    "        \n",
    "        except NoSuchElementException:\n",
    "            \n",
    "            continue  \n",
    "    print('Season:'+str(i-2)+' done') \n",
    "    \n",
    "    element=WebDriverWait(driver,20).until(EC.visibility_of_element_located((By.XPATH ,'//*[@id=\"page-season\"]/div[3]/div/a[3]')))\n",
    "    element.click()"
   ]
  },
  {
   "cell_type": "code",
   "execution_count": 6,
   "metadata": {},
   "outputs": [
    {
     "data": {
      "text/plain": [
       "(3091, 3091, 3091)"
      ]
     },
     "execution_count": 6,
     "metadata": {},
     "output_type": "execute_result"
    }
   ],
   "source": [
    "len(Date),len(Guests),len(Season_ep) #checking if each column has same size of data"
   ]
  },
  {
   "cell_type": "markdown",
   "metadata": {},
   "source": [
    "**Clubbing everything together and making a dataframe**"
   ]
  },
  {
   "cell_type": "code",
   "execution_count": 7,
   "metadata": {},
   "outputs": [],
   "source": [
    "d = zip(Season_ep,Date,Guests)\n",
    "mapped = list(d)\n",
    "df = pd.DataFrame(mapped, columns =['Season', 'Date','Guests'])"
   ]
  },
  {
   "cell_type": "code",
   "execution_count": 10,
   "metadata": {},
   "outputs": [
    {
     "data": {
      "text/html": [
       "<div>\n",
       "<style scoped>\n",
       "    .dataframe tbody tr th:only-of-type {\n",
       "        vertical-align: middle;\n",
       "    }\n",
       "\n",
       "    .dataframe tbody tr th {\n",
       "        vertical-align: top;\n",
       "    }\n",
       "\n",
       "    .dataframe thead th {\n",
       "        text-align: right;\n",
       "    }\n",
       "</style>\n",
       "<table border=\"1\" class=\"dataframe\">\n",
       "  <thead>\n",
       "    <tr style=\"text-align: right;\">\n",
       "      <th></th>\n",
       "      <th>Season</th>\n",
       "      <th>Date</th>\n",
       "      <th>Guests</th>\n",
       "    </tr>\n",
       "  </thead>\n",
       "  <tbody>\n",
       "    <tr>\n",
       "      <th>0</th>\n",
       "      <td>S01E01</td>\n",
       "      <td>September 8, 2003</td>\n",
       "      <td>Series Premiere</td>\n",
       "    </tr>\n",
       "    <tr>\n",
       "      <th>1</th>\n",
       "      <td>S01E02</td>\n",
       "      <td>September 9, 2003</td>\n",
       "      <td>Justin Timberlake</td>\n",
       "    </tr>\n",
       "    <tr>\n",
       "      <th>2</th>\n",
       "      <td>S01E03</td>\n",
       "      <td>September 10, 2003</td>\n",
       "      <td>Betty White/Sherri Shepherd</td>\n",
       "    </tr>\n",
       "    <tr>\n",
       "      <th>3</th>\n",
       "      <td>S01E04</td>\n",
       "      <td>September 11, 2003</td>\n",
       "      <td>Megan Mullally</td>\n",
       "    </tr>\n",
       "    <tr>\n",
       "      <th>4</th>\n",
       "      <td>S01E05</td>\n",
       "      <td>September 12, 2003</td>\n",
       "      <td>Dennis Quaid/Lisa Marie Presley</td>\n",
       "    </tr>\n",
       "    <tr>\n",
       "      <th>...</th>\n",
       "      <td>...</td>\n",
       "      <td>...</td>\n",
       "      <td>...</td>\n",
       "    </tr>\n",
       "    <tr>\n",
       "      <th>3086</th>\n",
       "      <td>S18E174</td>\n",
       "      <td>June 28, 2021</td>\n",
       "      <td>Guest Host Tiffany Haddish with Tyrese Gibson ...</td>\n",
       "    </tr>\n",
       "    <tr>\n",
       "      <th>3087</th>\n",
       "      <td>S18E175</td>\n",
       "      <td>June 29, 2021</td>\n",
       "      <td>Guest Host Chelsea Handler with Kristen Bell, ...</td>\n",
       "    </tr>\n",
       "    <tr>\n",
       "      <th>3088</th>\n",
       "      <td>S18E176</td>\n",
       "      <td>June 30, 2021</td>\n",
       "      <td>Guest Host Wanda Sykes with Don Cheadle, Ilana...</td>\n",
       "    </tr>\n",
       "    <tr>\n",
       "      <th>3089</th>\n",
       "      <td>S18E177</td>\n",
       "      <td>July 1, 2021</td>\n",
       "      <td>Guest Host Chelsea Handler with Robin Wright a...</td>\n",
       "    </tr>\n",
       "    <tr>\n",
       "      <th>3090</th>\n",
       "      <td>S18E178</td>\n",
       "      <td>July 2, 2021</td>\n",
       "      <td>Guest Host Stephen “tWitch” Boss with Jay Phar...</td>\n",
       "    </tr>\n",
       "  </tbody>\n",
       "</table>\n",
       "<p>3091 rows × 3 columns</p>\n",
       "</div>"
      ],
      "text/plain": [
       "       Season                Date  \\\n",
       "0      S01E01   September 8, 2003   \n",
       "1      S01E02   September 9, 2003   \n",
       "2      S01E03  September 10, 2003   \n",
       "3      S01E04  September 11, 2003   \n",
       "4      S01E05  September 12, 2003   \n",
       "...       ...                 ...   \n",
       "3086  S18E174       June 28, 2021   \n",
       "3087  S18E175       June 29, 2021   \n",
       "3088  S18E176       June 30, 2021   \n",
       "3089  S18E177        July 1, 2021   \n",
       "3090  S18E178        July 2, 2021   \n",
       "\n",
       "                                                 Guests  \n",
       "0                                       Series Premiere  \n",
       "1                                     Justin Timberlake  \n",
       "2                           Betty White/Sherri Shepherd  \n",
       "3                                        Megan Mullally  \n",
       "4                       Dennis Quaid/Lisa Marie Presley  \n",
       "...                                                 ...  \n",
       "3086  Guest Host Tiffany Haddish with Tyrese Gibson ...  \n",
       "3087  Guest Host Chelsea Handler with Kristen Bell, ...  \n",
       "3088  Guest Host Wanda Sykes with Don Cheadle, Ilana...  \n",
       "3089  Guest Host Chelsea Handler with Robin Wright a...  \n",
       "3090  Guest Host Stephen “tWitch” Boss with Jay Phar...  \n",
       "\n",
       "[3091 rows x 3 columns]"
      ]
     },
     "execution_count": 10,
     "metadata": {},
     "output_type": "execute_result"
    }
   ],
   "source": [
    "df"
   ]
  },
  {
   "cell_type": "markdown",
   "metadata": {},
   "source": [
    "**Let's verify the dataset, if it is accurate or not** "
   ]
  },
  {
   "cell_type": "markdown",
   "metadata": {},
   "source": [
    "So I remember **Deepika Padukone** went to Ellen show. If this is complete database as I believe. It should contain that entry. Lets also see who were **other guests that day**."
   ]
  },
  {
   "cell_type": "code",
   "execution_count": 11,
   "metadata": {},
   "outputs": [
    {
     "data": {
      "text/html": [
       "<div>\n",
       "<style scoped>\n",
       "    .dataframe tbody tr th:only-of-type {\n",
       "        vertical-align: middle;\n",
       "    }\n",
       "\n",
       "    .dataframe tbody tr th {\n",
       "        vertical-align: top;\n",
       "    }\n",
       "\n",
       "    .dataframe thead th {\n",
       "        text-align: right;\n",
       "    }\n",
       "</style>\n",
       "<table border=\"1\" class=\"dataframe\">\n",
       "  <thead>\n",
       "    <tr style=\"text-align: right;\">\n",
       "      <th></th>\n",
       "      <th>Season</th>\n",
       "      <th>Date</th>\n",
       "      <th>Guests</th>\n",
       "    </tr>\n",
       "  </thead>\n",
       "  <tbody>\n",
       "    <tr>\n",
       "      <th>2270</th>\n",
       "      <td>S14E84</td>\n",
       "      <td>January 18, 2017</td>\n",
       "      <td>Matt LeBlanc, Deepika Padukone</td>\n",
       "    </tr>\n",
       "  </tbody>\n",
       "</table>\n",
       "</div>"
      ],
      "text/plain": [
       "      Season              Date                          Guests\n",
       "2270  S14E84  January 18, 2017  Matt LeBlanc, Deepika Padukone"
      ]
     },
     "execution_count": 11,
     "metadata": {},
     "output_type": "execute_result"
    }
   ],
   "source": [
    "df[df['Guests'].str.contains('Deepika Padukone')]"
   ]
  },
  {
   "cell_type": "markdown",
   "metadata": {},
   "source": [
    "Season 14 Episode 84, in January 18 2017, It was around release of her Hollywood debut movie **XXX:Return of Xander Cage** with Vin Diesel."
   ]
  },
  {
   "cell_type": "code",
   "execution_count": 14,
   "metadata": {},
   "outputs": [],
   "source": [
    "#Converting date to a much favourable format\n",
    "\n",
    "df['Date'] = df['Date'].apply(lambda x: datetime.datetime.strptime(x, '%B %d, %Y').date())\n",
    "df['Date'] = pd.to_datetime(df['Date'])"
   ]
  },
  {
   "cell_type": "code",
   "execution_count": 16,
   "metadata": {},
   "outputs": [
    {
     "data": {
      "text/html": [
       "<div>\n",
       "<style scoped>\n",
       "    .dataframe tbody tr th:only-of-type {\n",
       "        vertical-align: middle;\n",
       "    }\n",
       "\n",
       "    .dataframe tbody tr th {\n",
       "        vertical-align: top;\n",
       "    }\n",
       "\n",
       "    .dataframe thead th {\n",
       "        text-align: right;\n",
       "    }\n",
       "</style>\n",
       "<table border=\"1\" class=\"dataframe\">\n",
       "  <thead>\n",
       "    <tr style=\"text-align: right;\">\n",
       "      <th></th>\n",
       "      <th>Season</th>\n",
       "      <th>Date</th>\n",
       "      <th>Guests</th>\n",
       "    </tr>\n",
       "  </thead>\n",
       "  <tbody>\n",
       "    <tr>\n",
       "      <th>3081</th>\n",
       "      <td>S18E169</td>\n",
       "      <td>2021-06-21</td>\n",
       "      <td>Cecily Strong, Ann Dowd</td>\n",
       "    </tr>\n",
       "    <tr>\n",
       "      <th>3082</th>\n",
       "      <td>S18E170</td>\n",
       "      <td>2021-06-22</td>\n",
       "      <td>Chris “Ludacris” Bridges, James TW</td>\n",
       "    </tr>\n",
       "    <tr>\n",
       "      <th>3083</th>\n",
       "      <td>S18E171</td>\n",
       "      <td>2021-06-23</td>\n",
       "      <td>Henry Golding, Damien Caillaud, Urbain Ngobobo...</td>\n",
       "    </tr>\n",
       "    <tr>\n",
       "      <th>3084</th>\n",
       "      <td>S18E172</td>\n",
       "      <td>2021-06-24</td>\n",
       "      <td>Minnie Driver, Blake Shelton</td>\n",
       "    </tr>\n",
       "    <tr>\n",
       "      <th>3085</th>\n",
       "      <td>S18E173</td>\n",
       "      <td>2021-06-25</td>\n",
       "      <td>Guest Host Stephen “tWitch” Boss with Casey Wi...</td>\n",
       "    </tr>\n",
       "    <tr>\n",
       "      <th>3086</th>\n",
       "      <td>S18E174</td>\n",
       "      <td>2021-06-28</td>\n",
       "      <td>Guest Host Tiffany Haddish with Tyrese Gibson ...</td>\n",
       "    </tr>\n",
       "    <tr>\n",
       "      <th>3087</th>\n",
       "      <td>S18E175</td>\n",
       "      <td>2021-06-29</td>\n",
       "      <td>Guest Host Chelsea Handler with Kristen Bell, ...</td>\n",
       "    </tr>\n",
       "    <tr>\n",
       "      <th>3088</th>\n",
       "      <td>S18E176</td>\n",
       "      <td>2021-06-30</td>\n",
       "      <td>Guest Host Wanda Sykes with Don Cheadle, Ilana...</td>\n",
       "    </tr>\n",
       "    <tr>\n",
       "      <th>3089</th>\n",
       "      <td>S18E177</td>\n",
       "      <td>2021-07-01</td>\n",
       "      <td>Guest Host Chelsea Handler with Robin Wright a...</td>\n",
       "    </tr>\n",
       "    <tr>\n",
       "      <th>3090</th>\n",
       "      <td>S18E178</td>\n",
       "      <td>2021-07-02</td>\n",
       "      <td>Guest Host Stephen “tWitch” Boss with Jay Phar...</td>\n",
       "    </tr>\n",
       "  </tbody>\n",
       "</table>\n",
       "</div>"
      ],
      "text/plain": [
       "       Season       Date                                             Guests\n",
       "3081  S18E169 2021-06-21                            Cecily Strong, Ann Dowd\n",
       "3082  S18E170 2021-06-22                 Chris “Ludacris” Bridges, James TW\n",
       "3083  S18E171 2021-06-23  Henry Golding, Damien Caillaud, Urbain Ngobobo...\n",
       "3084  S18E172 2021-06-24                       Minnie Driver, Blake Shelton\n",
       "3085  S18E173 2021-06-25  Guest Host Stephen “tWitch” Boss with Casey Wi...\n",
       "3086  S18E174 2021-06-28  Guest Host Tiffany Haddish with Tyrese Gibson ...\n",
       "3087  S18E175 2021-06-29  Guest Host Chelsea Handler with Kristen Bell, ...\n",
       "3088  S18E176 2021-06-30  Guest Host Wanda Sykes with Don Cheadle, Ilana...\n",
       "3089  S18E177 2021-07-01  Guest Host Chelsea Handler with Robin Wright a...\n",
       "3090  S18E178 2021-07-02  Guest Host Stephen “tWitch” Boss with Jay Phar..."
      ]
     },
     "execution_count": 16,
     "metadata": {},
     "output_type": "execute_result"
    }
   ],
   "source": [
    "df.tail(10)"
   ]
  },
  {
   "cell_type": "code",
   "execution_count": null,
   "metadata": {},
   "outputs": [],
   "source": [
    "df.to_csv('Ellen_dataset(2003-2021).csv')"
   ]
  },
  {
   "cell_type": "markdown",
   "metadata": {},
   "source": [
    "# At the end I just want to say, I love The Ellen Show❤.  And Each time you run this notebook, it will give you an up to date dataset of Ellen Show. But sadly this is the last season(or maybe not). But hey good thing is, we do not have to increase the season index to 22 in our for loop."
   ]
  }
 ],
 "metadata": {
  "kernelspec": {
   "display_name": "Python 3",
   "language": "python",
   "name": "python3"
  },
  "language_info": {
   "codemirror_mode": {
    "name": "ipython",
    "version": 3
   },
   "file_extension": ".py",
   "mimetype": "text/x-python",
   "name": "python",
   "nbconvert_exporter": "python",
   "pygments_lexer": "ipython3",
   "version": "3.8.3"
  }
 },
 "nbformat": 4,
 "nbformat_minor": 4
}
